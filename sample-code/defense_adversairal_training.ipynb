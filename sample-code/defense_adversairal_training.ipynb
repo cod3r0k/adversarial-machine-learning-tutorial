{
  "nbformat": 4,
  "nbformat_minor": 0,
  "metadata": {
    "kernelspec": {
      "display_name": "Python 3",
      "language": "python",
      "name": "python3"
    },
    "language_info": {
      "codemirror_mode": {
        "name": "ipython",
        "version": 3
      },
      "file_extension": ".py",
      "mimetype": "text/x-python",
      "name": "python",
      "nbconvert_exporter": "python",
      "pygments_lexer": "ipython3",
      "version": "3.8.8"
    },
    "colab": {
      "name": "Adversairal Training (MNIST).ipynb",
      "provenance": [],
      "collapsed_sections": []
    }
  },
  "cells": [
    {
      "cell_type": "markdown",
      "metadata": {
        "id": "s0t_J0eGxOTm"
      },
      "source": [
        "# Demo - Adversarial Training (MNIST)"
      ]
    },
    {
      "cell_type": "code",
      "metadata": {
        "id": "vEbuYUwGxOTp"
      },
      "source": [
        "import os\n",
        "import sys\n",
        "import numpy as np\n",
        "import matplotlib.pyplot as plt\n",
        "%matplotlib inline\n",
        "\n",
        "import torch\n",
        "import torch.nn as nn\n",
        "import torch.optim as optim\n",
        "\n",
        "import torchvision.utils\n",
        "from torchvision import models\n",
        "import torchvision.datasets as dsets\n",
        "import torchvision.transforms as transforms\n",
        "\n",
        "import torchattacks\n",
        "from torchattacks import PGD, FGSM\n",
        "\n",
        "from models import CNN"
      ],
      "execution_count": null,
      "outputs": []
    },
    {
      "cell_type": "code",
      "metadata": {
        "id": "boMu5OT7xOTr",
        "outputId": "9c4ff550-9f36-4217-8420-28a476067f52"
      },
      "source": [
        "print(\"PyTorch\", torch.__version__)\n",
        "print(\"Torchvision\", torchvision.__version__)\n",
        "print(\"Torchattacks\", torchattacks.__version__)\n",
        "print(\"Numpy\", np.__version__)"
      ],
      "execution_count": null,
      "outputs": [
        {
          "name": "stdout",
          "output_type": "stream",
          "text": [
            "PyTorch 1.9.0\n",
            "Torchvision 0.10.0\n",
            "Torchattacks 3.0.0\n",
            "Numpy 1.20.1\n"
          ]
        }
      ]
    },
    {
      "cell_type": "markdown",
      "metadata": {
        "id": "rFilb2BgxOTt"
      },
      "source": [
        "## 1. Load Data"
      ]
    },
    {
      "cell_type": "code",
      "metadata": {
        "id": "EVy7mhJJxOTt"
      },
      "source": [
        "mnist_train = dsets.MNIST(root='./data/',\n",
        "                          train=True,\n",
        "                          transform=transforms.ToTensor(),\n",
        "                          download=True)\n",
        "\n",
        "mnist_test = dsets.MNIST(root='./data/',\n",
        "                         train=False,\n",
        "                         transform=transforms.ToTensor(),\n",
        "                         download=True)"
      ],
      "execution_count": null,
      "outputs": []
    },
    {
      "cell_type": "code",
      "metadata": {
        "id": "qW0llQNHxOTu"
      },
      "source": [
        "batch_size = 128\n",
        "\n",
        "train_loader  = torch.utils.data.DataLoader(dataset=mnist_train,\n",
        "                                           batch_size=batch_size,\n",
        "                                           shuffle=False)\n",
        "\n",
        "test_loader = torch.utils.data.DataLoader(dataset=mnist_test,\n",
        "                                         batch_size=batch_size,\n",
        "                                         shuffle=False)"
      ],
      "execution_count": null,
      "outputs": []
    },
    {
      "cell_type": "markdown",
      "metadata": {
        "id": "QG7IHx16xOTu"
      },
      "source": [
        "## 2. Define Model"
      ]
    },
    {
      "cell_type": "code",
      "metadata": {
        "id": "hcb7qLwmxOTv"
      },
      "source": [
        "model = CNN().cuda()"
      ],
      "execution_count": null,
      "outputs": []
    },
    {
      "cell_type": "code",
      "metadata": {
        "id": "nq_mM_4pxOTw"
      },
      "source": [
        "loss = nn.CrossEntropyLoss()\n",
        "optimizer = optim.Adam(model.parameters(), lr=0.001)"
      ],
      "execution_count": null,
      "outputs": []
    },
    {
      "cell_type": "code",
      "metadata": {
        "id": "mjF-CnQ1xOTx"
      },
      "source": [
        "atk = PGD(model, eps=0.3, alpha=0.1, steps=7)"
      ],
      "execution_count": null,
      "outputs": []
    },
    {
      "cell_type": "markdown",
      "metadata": {
        "id": "pSdnFAi8xOTx"
      },
      "source": [
        "## 3. Train Model"
      ]
    },
    {
      "cell_type": "code",
      "metadata": {
        "id": "CA2Wwgo2xOTx"
      },
      "source": [
        "num_epochs = 5"
      ],
      "execution_count": null,
      "outputs": []
    },
    {
      "cell_type": "code",
      "metadata": {
        "scrolled": false,
        "id": "Mc3jZMnnxOTy",
        "outputId": "44ed16e3-eda8-417d-a8fd-df5e0a1a70a7"
      },
      "source": [
        "for epoch in range(num_epochs):\n",
        "\n",
        "    total_batch = len(mnist_train) // batch_size\n",
        "    \n",
        "    for i, (batch_images, batch_labels) in enumerate(train_loader):\n",
        "        X = atk(batch_images, batch_labels).cuda()\n",
        "        Y = batch_labels.cuda()\n",
        "\n",
        "        pre = model(X)\n",
        "        cost = loss(pre, Y)\n",
        "\n",
        "        optimizer.zero_grad()\n",
        "        cost.backward()\n",
        "        optimizer.step()\n",
        "\n",
        "        if (i+1) % 100 == 0:\n",
        "            print('Epoch [%d/%d], lter [%d/%d], Loss: %.4f'\n",
        "                 %(epoch+1, num_epochs, i+1, total_batch, cost.item()))"
      ],
      "execution_count": null,
      "outputs": [
        {
          "name": "stderr",
          "output_type": "stream",
          "text": [
            "C:\\Users\\slcf\\anaconda3\\lib\\site-packages\\torch\\nn\\functional.py:718: UserWarning: Named tensors and all their associated APIs are an experimental feature and subject to change. Please do not use them for anything important until they are released as stable. (Triggered internally at  ..\\c10/core/TensorImpl.h:1156.)\n",
            "  return torch.max_pool2d(input, kernel_size, stride, padding, dilation, ceil_mode)\n"
          ]
        },
        {
          "name": "stdout",
          "output_type": "stream",
          "text": [
            "Epoch [1/5], lter [100/468], Loss: 2.2614\n",
            "Epoch [1/5], lter [200/468], Loss: 1.8953\n",
            "Epoch [1/5], lter [300/468], Loss: 1.9722\n",
            "Epoch [1/5], lter [400/468], Loss: 1.6388\n",
            "Epoch [2/5], lter [100/468], Loss: 1.4706\n",
            "Epoch [2/5], lter [200/468], Loss: 1.1385\n",
            "Epoch [2/5], lter [300/468], Loss: 1.3320\n",
            "Epoch [2/5], lter [400/468], Loss: 1.0488\n",
            "Epoch [3/5], lter [100/468], Loss: 1.0429\n",
            "Epoch [3/5], lter [200/468], Loss: 0.7567\n",
            "Epoch [3/5], lter [300/468], Loss: 1.0407\n",
            "Epoch [3/5], lter [400/468], Loss: 0.7480\n",
            "Epoch [4/5], lter [100/468], Loss: 0.7487\n",
            "Epoch [4/5], lter [200/468], Loss: 0.5967\n",
            "Epoch [4/5], lter [300/468], Loss: 0.8110\n",
            "Epoch [4/5], lter [400/468], Loss: 0.5409\n",
            "Epoch [5/5], lter [100/468], Loss: 0.6163\n",
            "Epoch [5/5], lter [200/468], Loss: 0.5100\n",
            "Epoch [5/5], lter [300/468], Loss: 0.7592\n",
            "Epoch [5/5], lter [400/468], Loss: 0.4903\n"
          ]
        }
      ]
    },
    {
      "cell_type": "code",
      "metadata": {
        "id": "U_n-wARvwpvM"
      },
      "source": [
        ""
      ],
      "execution_count": null,
      "outputs": []
    },
    {
      "cell_type": "markdown",
      "metadata": {
        "id": "JX2hn-KxxOTy"
      },
      "source": [
        "## 4. Test Model"
      ]
    },
    {
      "cell_type": "markdown",
      "metadata": {
        "id": "eqiyaqMZxOTz"
      },
      "source": [
        "### 4.1 Standard Accuracy"
      ]
    },
    {
      "cell_type": "code",
      "metadata": {
        "id": "s4X_zTKNxOTz",
        "outputId": "588750f2-423c-4164-8f47-da23bee1ad90"
      },
      "source": [
        "model.eval()\n",
        "\n",
        "correct = 0\n",
        "total = 0\n",
        "\n",
        "for images, labels in test_loader:\n",
        "    \n",
        "    images = images.cuda()\n",
        "    outputs = model(images)\n",
        "    \n",
        "    _, predicted = torch.max(outputs.data, 1)\n",
        "    \n",
        "    total += labels.size(0)\n",
        "    correct += (predicted == labels.cuda()).sum()\n",
        "    \n",
        "print('Standard accuracy: %.2f %%' % (100 * float(correct) / total))"
      ],
      "execution_count": null,
      "outputs": [
        {
          "name": "stdout",
          "output_type": "stream",
          "text": [
            "Standard accuracy: 96.00 %\n"
          ]
        }
      ]
    },
    {
      "cell_type": "markdown",
      "metadata": {
        "id": "ZiD4zkYlxOTz"
      },
      "source": [
        "### 4.2 Robust Accuracy"
      ]
    },
    {
      "cell_type": "code",
      "metadata": {
        "id": "8VoZZgvlxOTz",
        "outputId": "60be715b-1e46-417c-a4c5-1a87f7aacf26"
      },
      "source": [
        "model.eval()\n",
        "\n",
        "correct = 0\n",
        "total = 0\n",
        "\n",
        "atk = FGSM(model, eps=0.3)\n",
        "\n",
        "for images, labels in test_loader:\n",
        "    \n",
        "    images = atk(images, labels).cuda()\n",
        "    outputs = model(images)\n",
        "    \n",
        "    _, predicted = torch.max(outputs.data, 1)\n",
        "    \n",
        "    total += labels.size(0)\n",
        "    correct += (predicted == labels.cuda()).sum()\n",
        "    \n",
        "print('Robust accuracy: %.2f %%' % (100 * float(correct) / total))"
      ],
      "execution_count": null,
      "outputs": [
        {
          "name": "stdout",
          "output_type": "stream",
          "text": [
            "Robust accuracy: 88.81 %\n"
          ]
        }
      ]
    }
  ]
}